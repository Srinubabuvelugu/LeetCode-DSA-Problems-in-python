{
 "cells": [
  {
   "cell_type": "raw",
   "id": "baa372e5-7a41-4495-940d-0e5104e52553",
   "metadata": {},
   "source": [
    "Given an array nums with n objects colored red, white, or blue, sort them in-place so that objects of the same color are adjacent, with the colors in the order red, white, and blue.\n",
    "\n",
    "We will use the integers 0, 1, and 2 to represent the color red, white, and blue, respectively.\n",
    "\n",
    "You must solve this problem without using the library's sort function.\n",
    "\n",
    "Example 1:\n",
    "Input: nums = [2,0,2,1,1,0]\n",
    "Output: [0,0,1,1,2,2]\n",
    "\n",
    "Example 2:\n",
    "Input: nums = [2,0,1]\n",
    "Output: [0,1,2]\n",
    " \n",
    "\n",
    "Constraints:\n",
    "\n",
    "n == nums.length\n",
    "1 <= n <= 300\n",
    "nums[i] is either 0, 1, or 2.\n",
    " "
   ]
  },
  {
   "cell_type": "code",
   "execution_count": null,
   "id": "c15659cc-6e8a-4dce-bfe5-7e3387c74a95",
   "metadata": {},
   "outputs": [],
   "source": [
    "#Approach - Optimal approach\n",
    "# Time complexity - O(N)\n",
    "# Space Complexity - O(1)\n",
    "def sortColors(nums):\n",
    "\n",
    "    p0, p2 = 0, len(nums)-1\n",
    "    curr = p0\n",
    "    while curr <= p2:\n",
    "        if nums[curr] == 0:\n",
    "            nums[p0],nums[curr] = nums[curr],nums[p0]\n",
    "            p0 += 1\n",
    "            curr += 1 \n",
    "        elif nums[curr] == 1:\n",
    "            curr +=1\n",
    "        else:\n",
    "            nums[curr], nums[p2] = nums[p2], nums[curr]\n",
    "            p2 -=1\n",
    "    return nums\n",
    "nums = [2,0,2,1,1,0]\n",
    "res = sortColors(nums)\n",
    "print(res)"
   ]
  },
  {
   "cell_type": "code",
   "execution_count": null,
   "id": "92a2f1a7-3e36-4551-9e32-1cef99c7cb23",
   "metadata": {},
   "outputs": [],
   "source": []
  },
  {
   "cell_type": "code",
   "execution_count": null,
   "id": "9f0d66c0-54ef-41ca-b1c2-19dd4a4265ac",
   "metadata": {},
   "outputs": [],
   "source": []
  }
 ],
 "metadata": {
  "kernelspec": {
   "display_name": "Python 3 (ipykernel)",
   "language": "python",
   "name": "python3"
  },
  "language_info": {
   "codemirror_mode": {
    "name": "ipython",
    "version": 3
   },
   "file_extension": ".py",
   "mimetype": "text/x-python",
   "name": "python",
   "nbconvert_exporter": "python",
   "pygments_lexer": "ipython3",
   "version": "3.11.5"
  }
 },
 "nbformat": 4,
 "nbformat_minor": 5
}
