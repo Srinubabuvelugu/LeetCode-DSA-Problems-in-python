{
 "cells": [
  {
   "cell_type": "code",
   "execution_count": null,
   "id": "f3eb8067-8f67-4050-8e5a-9f6252fa46de",
   "metadata": {},
   "outputs": [],
   "source": [
    "intervals = [[1,3],[2,6],[8,10],[15,18]]\n",
    "for i in intervals:\n",
    "    if intervals[i][1] in range(intervals[i+1])"
   ]
  },
  {
   "cell_type": "code",
   "execution_count": 13,
   "id": "af6b527d-c163-4903-bde7-4ab55fe3efbf",
   "metadata": {},
   "outputs": [
    {
     "ename": "TypeError",
     "evalue": "'int' object is not subscriptable",
     "output_type": "error",
     "traceback": [
      "\u001b[1;31m---------------------------------------------------------------------------\u001b[0m",
      "\u001b[1;31mTypeError\u001b[0m                                 Traceback (most recent call last)",
      "Cell \u001b[1;32mIn[13], line 3\u001b[0m\n\u001b[0;32m      1\u001b[0m lst\u001b[38;5;241m=\u001b[39m[[\u001b[38;5;241m1\u001b[39m,\u001b[38;5;241m3\u001b[39m],[\u001b[38;5;241m2\u001b[39m,\u001b[38;5;241m6\u001b[39m],[\u001b[38;5;241m8\u001b[39m,\u001b[38;5;241m10\u001b[39m]]\n\u001b[0;32m      2\u001b[0m \u001b[38;5;28;01mfor\u001b[39;00m i \u001b[38;5;129;01min\u001b[39;00m \u001b[38;5;28mrange\u001b[39m(\u001b[38;5;28mlen\u001b[39m(lst)):\n\u001b[1;32m----> 3\u001b[0m     \u001b[38;5;28;01mif\u001b[39;00m lst[i][\u001b[38;5;241m1\u001b[39m] \u001b[38;5;129;01min\u001b[39;00m \u001b[38;5;28mrange\u001b[39m(\u001b[38;5;241m*\u001b[39mlst[i\u001b[38;5;241m+\u001b[39m\u001b[38;5;241m1\u001b[39m]):\n\u001b[0;32m      5\u001b[0m         lst[i:i\u001b[38;5;241m+\u001b[39m\u001b[38;5;241m2\u001b[39m] \u001b[38;5;241m=\u001b[39m [lst[i][\u001b[38;5;241m0\u001b[39m], lst[i\u001b[38;5;241m+\u001b[39m\u001b[38;5;241m1\u001b[39m][\u001b[38;5;241m1\u001b[39m]]\n\u001b[0;32m      6\u001b[0m \u001b[38;5;28mprint\u001b[39m(lst)\n",
      "\u001b[1;31mTypeError\u001b[0m: 'int' object is not subscriptable"
     ]
    }
   ],
   "source": [
    "lst=[[1,3],[2,6],[8,10]]\n",
    "for i in range(len(lst)):\n",
    "    if lst[i][1] in range(*lst[i+1]):\n",
    "    \n",
    "        lst[i:i+2] = [lst[i][0], lst[i+1][1]]\n",
    "print(lst)\n",
    "\n",
    "    "
   ]
  },
  {
   "cell_type": "code",
   "execution_count": null,
   "id": "cbca2ec1-2ee5-4686-823f-5a29eaec3d5a",
   "metadata": {},
   "outputs": [],
   "source": []
  }
 ],
 "metadata": {
  "kernelspec": {
   "display_name": "Python 3 (ipykernel)",
   "language": "python",
   "name": "python3"
  },
  "language_info": {
   "codemirror_mode": {
    "name": "ipython",
    "version": 3
   },
   "file_extension": ".py",
   "mimetype": "text/x-python",
   "name": "python",
   "nbconvert_exporter": "python",
   "pygments_lexer": "ipython3",
   "version": "3.11.5"
  }
 },
 "nbformat": 4,
 "nbformat_minor": 5
}
