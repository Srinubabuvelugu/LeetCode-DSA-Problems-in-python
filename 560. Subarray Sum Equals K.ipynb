{
 "cells": [
  {
   "cell_type": "markdown",
   "id": "d5a05c2a-1a7a-422a-bf4f-7afdf9c88049",
   "metadata": {},
   "source": [
    "## Better Approach\n",
    "- TC: O(n*n)\n",
    "- SC: O(1)"
   ]
  },
  {
   "cell_type": "code",
   "execution_count": 7,
   "id": "581d148a-468f-4c4c-8eb6-65109bd7e7c0",
   "metadata": {},
   "outputs": [
    {
     "name": "stdout",
     "output_type": "stream",
     "text": [
      "The number of subarrays is: 8\n"
     ]
    }
   ],
   "source": [
    "class Solution:\n",
    "    def subarraySum(nums,k):\n",
    "        count = 0\n",
    "        n = len(nums)\n",
    "        for i in range(n):\n",
    "            sum = 0\n",
    "            for j in range(i, n):\n",
    "                sum += nums[j]\n",
    "                if sum == k:\n",
    "                    count += 1\n",
    "              \n",
    "        return count\n",
    "\n",
    "if __name__ == '__main__':\n",
    "    arr = [1,2,3,-3,1,1,1,4,2,-3]\n",
    "    k = 3\n",
    "    cnt = Solution.subarraySum(arr, k)\n",
    "    print(\"The number of subarrays is:\", cnt)"
   ]
  },
  {
   "cell_type": "markdown",
   "id": "592f7d14-455c-4f41-8c0e-992d4e303e01",
   "metadata": {},
   "source": [
    "## Optimal Approach\n",
    "- TC: O(n)\n",
    "- SC: O(n)"
   ]
  },
  {
   "cell_type": "code",
   "execution_count": 4,
   "id": "d74728f1-9ea5-4396-9e7e-541ae19f70ca",
   "metadata": {},
   "outputs": [
    {
     "name": "stdout",
     "output_type": "stream",
     "text": [
      "The number of subarrays is: 2\n"
     ]
    }
   ],
   "source": [
    "from collections import defaultdict\n",
    "class Solution:\n",
    "    def subarraySum(nums,k):\n",
    "        count, presum = 0, 0 \n",
    "        map = defaultdict(int)\n",
    "        map[0] = 1\n",
    "        for num in nums:\n",
    "            presum += num\n",
    "            x_k = presum - k\n",
    "            count += map[x_k]\n",
    "            map[presum] +=1\n",
    "        return count\n",
    "\n",
    "if __name__ == '__main__':\n",
    "    arr = [3, 1, 2, 4]\n",
    "    k = 6\n",
    "    cnt = Solution.subarraySum(arr, k)\n",
    "    print(\"The number of subarrays is:\", cnt)\n"
   ]
  },
  {
   "cell_type": "code",
   "execution_count": null,
   "id": "76752d88-4bb6-4a9b-9600-880494b35b67",
   "metadata": {},
   "outputs": [],
   "source": []
  }
 ],
 "metadata": {
  "kernelspec": {
   "display_name": "Python 3 (ipykernel)",
   "language": "python",
   "name": "python3"
  },
  "language_info": {
   "codemirror_mode": {
    "name": "ipython",
    "version": 3
   },
   "file_extension": ".py",
   "mimetype": "text/x-python",
   "name": "python",
   "nbconvert_exporter": "python",
   "pygments_lexer": "ipython3",
   "version": "3.11.5"
  }
 },
 "nbformat": 4,
 "nbformat_minor": 5
}
