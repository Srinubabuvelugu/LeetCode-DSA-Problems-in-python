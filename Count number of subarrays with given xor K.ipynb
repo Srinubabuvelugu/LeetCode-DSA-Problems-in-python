{
 "cells": [
  {
   "cell_type": "markdown",
   "id": "d159105d-c15c-4baf-9b7a-a249e5c62ada",
   "metadata": {},
   "source": [
    "# Count number of subarrays with given xor K\n"
   ]
  },
  {
   "cell_type": "markdown",
   "id": "31446ae9-aa99-4594-b2fa-f28df4b3d4ca",
   "metadata": {},
   "source": [
    "## Optimal Approach\n",
    "Problem Statement: Given an array of integers A and an integer B. Find the total number of subarrays having bitwise XOR of all elements equal to k."
   ]
  },
  {
   "cell_type": "markdown",
   "id": "39e25553-cee2-4e87-af9c-968372583b47",
   "metadata": {},
   "source": [
    "**Time Complexity**: O(N) or O(N*logN) depending on which map data structure we are using, where N = size of the array.\n",
    "The least complexity will be O(N) as we are using a loop to traverse the array. Point to remember for unordered_map in the worst case, the searching time increases to O(N), and hence the overall time complexity increases to O(N2). \n",
    "\n",
    "**Space Complexity**: O(N) as we are using a map data structure."
   ]
  },
  {
   "cell_type": "code",
   "execution_count": 12,
   "id": "769b29e5-df75-4af1-ad7f-ba96e3c554c3",
   "metadata": {},
   "outputs": [
    {
     "name": "stdout",
     "output_type": "stream",
     "text": [
      "4\n"
     ]
    }
   ],
   "source": [
    "class Solution:\n",
    "    def subarrayWithGivenXOR(nums, target):\n",
    "        n = len(nums)\n",
    "        total_XOR = 0\n",
    "        count = 0\n",
    "        map = dict()\n",
    "        map[0] = 1\n",
    "        for i in range(n):\n",
    "            total_XOR ^= nums[i]\n",
    "            front_xor = total_XOR ^ target\n",
    "            count += map.get(front_xor,0)\n",
    "            \n",
    "            if total_XOR in map:\n",
    "                map[total_XOR] += 1\n",
    "            else:\n",
    "                map[total_XOR] = 1\n",
    "        return count\n",
    "\n",
    "arr = [4,2,2,6,4]\n",
    "target = 6\n",
    "ans = Solution.subarrayWithGivenXOR(arr, target)\n",
    "print(ans)\n",
    "        "
   ]
  },
  {
   "cell_type": "code",
   "execution_count": null,
   "id": "f50c8d57-4f7b-4857-861d-bed837ef373a",
   "metadata": {},
   "outputs": [],
   "source": []
  }
 ],
 "metadata": {
  "kernelspec": {
   "display_name": "Python 3 (ipykernel)",
   "language": "python",
   "name": "python3"
  },
  "language_info": {
   "codemirror_mode": {
    "name": "ipython",
    "version": 3
   },
   "file_extension": ".py",
   "mimetype": "text/x-python",
   "name": "python",
   "nbconvert_exporter": "python",
   "pygments_lexer": "ipython3",
   "version": "3.11.5"
  }
 },
 "nbformat": 4,
 "nbformat_minor": 5
}
