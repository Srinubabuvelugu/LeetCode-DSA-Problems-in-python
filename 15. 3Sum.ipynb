{
 "cells": [
  {
   "cell_type": "markdown",
   "id": "497e0f52-3dc2-4be1-8f25-591856a9973e",
   "metadata": {},
   "source": [
    "# 3SUM PROBLEM"
   ]
  },
  {
   "cell_type": "markdown",
   "id": "ca0b2c21-5c10-40ad-9ac7-496f3ebc31c4",
   "metadata": {},
   "source": [
    "## Better Approach\n",
    "**Time Complexity**: O(N2 * log(no. of unique triplets)), where N = size of the array.\n",
    "Reason: Here, we are mainly using 3 nested loops. And inserting triplets into the set takes O(log(no. of unique triplets)) time complexity. But we are not considering the time complexity of sorting as we are just sorting 3 elements every time.\n",
    "\n",
    "**Space Complexity**: O(2 * no. of the unique triplets) + O(N) as we are using a set data structure and a list to store the triplets and extra O(N) for storing the array elements in another set."
   ]
  },
  {
   "cell_type": "code",
   "execution_count": 23,
   "id": "f483c5df-a6d0-45e7-ac60-871441ccdbfc",
   "metadata": {},
   "outputs": [
    {
     "name": "stdout",
     "output_type": "stream",
     "text": [
      "[[-1, -1, 2], [-1, 0, 1]]\n"
     ]
    }
   ],
   "source": [
    "class Solution:\n",
    "    def threeSum(nums):\n",
    "        n = len(nums)\n",
    "        st = list()\n",
    "        for i in range(n):\n",
    "            dic = dict()\n",
    "            for j in range(i+1, n):\n",
    "                third = -(nums[i] + nums[j])\n",
    "                \n",
    "                if dic.get(third, 0):\n",
    "                    tripulate = [nums[i], nums[j], third]\n",
    "                    tripulate.sort()\n",
    "                    st.append(tripulate)\n",
    "                else:\n",
    "                    dic[nums[j]]= nums[j]\n",
    "            \n",
    "       \n",
    "            \n",
    "        return st\n",
    "\n",
    "arr = [-1, 0, 1, 2, -1, -4]\n",
    "ans = Solution.threeSum(arr)\n",
    "print(ans)"
   ]
  },
  {
   "cell_type": "markdown",
   "id": "823f8cb9-ea0f-411a-a0d2-5ed8b07fa72c",
   "metadata": {},
   "source": [
    "## Optimal Approach\n",
    "- **Time Complexity**: O(NlogN)+O(N2), where N = size of the array.\r\n",
    "Reason: The pointer i, is running for approximately N times. And both the pointers j and k combined can run for approximately N times including the operation of skipping duplicates. So the total time complexity will be O(N2)<br>1)."
   ]
  },
  {
   "cell_type": "markdown",
   "id": "f5d2cf7d-6415-41f7-b8b5-db400c0a9592",
   "metadata": {},
   "source": [
    "- **Space Complexity**: O(no. of quadruplets), This space is only used to store the answer. We are not using any extra space to solve this problem. So, from that perspective, space complexity can be written as O(1)."
   ]
  },
  {
   "cell_type": "code",
   "execution_count": 1,
   "id": "e50ced6d-af2d-4f40-b6aa-324706f805ba",
   "metadata": {},
   "outputs": [
    {
     "name": "stdout",
     "output_type": "stream",
     "text": [
      "[[-1, -1, 2], [-1, 0, 1]]\n"
     ]
    }
   ],
   "source": [
    "class Solution:\n",
    "    def threeSum(nums):\n",
    "        nums.sort()\n",
    "        ans = list()\n",
    "        n = len(nums)\n",
    "        for i in range(n):\n",
    "            # check the presetn 'i'th number is the same as the prevous number\n",
    "            if i>0 and nums[i] == nums[i-1]: continue\n",
    "            j = i+1\n",
    "            k = n-1\n",
    "            while j<k:\n",
    "                sum = nums[i] + nums[j] + nums[k]\n",
    "                if sum < 0:\n",
    "                    j += 1\n",
    "                elif sum > 0:\n",
    "                    k -= 1\n",
    "                else:\n",
    "                    ans.append([nums[i], nums[j], nums[k]])\n",
    "                    j += 1\n",
    "                    k -= 1\n",
    "                    # check whether the present element in the positions of j ans k is same as previous postion elements\n",
    "                    while j<k and nums[j] == nums[j-1]: j += 1\n",
    "                    while j<k and nums[k] == nums[k+1]: k -= 1\n",
    "        return ans\n",
    "\n",
    "arr = [-1, 0, 1, 2, -1, -4]\n",
    "ans = Solution.threeSum(arr)\n",
    "print(ans)"
   ]
  },
  {
   "cell_type": "code",
   "execution_count": null,
   "id": "334e2408-eb19-4f81-a554-d5b271eaede4",
   "metadata": {},
   "outputs": [],
   "source": []
  }
 ],
 "metadata": {
  "kernelspec": {
   "display_name": "Python 3 (ipykernel)",
   "language": "python",
   "name": "python3"
  },
  "language_info": {
   "codemirror_mode": {
    "name": "ipython",
    "version": 3
   },
   "file_extension": ".py",
   "mimetype": "text/x-python",
   "name": "python",
   "nbconvert_exporter": "python",
   "pygments_lexer": "ipython3",
   "version": "3.11.5"
  }
 },
 "nbformat": 4,
 "nbformat_minor": 5
}
