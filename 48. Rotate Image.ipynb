{
 "cells": [
  {
   "cell_type": "markdown",
   "id": "6cf23c68-d656-4a3a-88da-e1e51700de07",
   "metadata": {},
   "source": [
    "## Brute Force Approach"
   ]
  },
  {
   "cell_type": "code",
   "execution_count": 2,
   "id": "3167135e-39c8-4b40-abc0-cc75c296aa15",
   "metadata": {},
   "outputs": [
    {
     "name": "stdout",
     "output_type": "stream",
     "text": [
      "Rotated Image\n",
      "7 4 1 \n",
      "8 5 2 \n",
      "9 6 3 \n"
     ]
    }
   ],
   "source": [
    "# tc: n * n = O(n*n)\n",
    "# SC : O(n*n)\n",
    "class Solution:\n",
    "    def rotate(matrix):\n",
    "        \"\"\"\n",
    "        Do not return anything, modify matrix in-place instead.\n",
    "        \"\"\"\n",
    "        n = len(matrix)\n",
    "        ans = [[-1] * n for i in range(n)]\n",
    "        \n",
    "        for i in range(n):\n",
    "            for j in range(n):\n",
    "                ans[j][n-1-i] = matrix[i][j]\n",
    "        return ans\n",
    "\n",
    "if __name__ == \"__main__\":\n",
    "    arr = [[1, 2, 3], [4, 5, 6], [7, 8, 9]]\n",
    "    rotated = Solution.rotate(arr)\n",
    "    print(\"Rotated Image\")\n",
    "    for i in range(len(rotated)):\n",
    "        for j in range(len(rotated[0])):\n",
    "            print(rotated[i][j], end=\" \")\n",
    "        print()\n"
   ]
  },
  {
   "cell_type": "markdown",
   "id": "ddaffe14-7c9d-4397-9859-3d3bfa6b373c",
   "metadata": {},
   "source": [
    "## Optimal Approach"
   ]
  },
  {
   "cell_type": "code",
   "execution_count": 4,
   "id": "0a6c8f34-b5df-4e51-89ff-8f3736cd3bde",
   "metadata": {},
   "outputs": [
    {
     "name": "stdout",
     "output_type": "stream",
     "text": [
      "Rotated Image\n",
      "7 4 1 \n",
      "8 5 2 \n",
      "9 6 3 \n"
     ]
    }
   ],
   "source": [
    "# tc: n *n/2 + n * n = O(n*n)\n",
    "# SC : O(1)\n",
    "class Solution:\n",
    "    def rotate(matrix):\n",
    "        \"\"\"\n",
    "        Do not return anything, modify matrix in-place instead.\n",
    "        \"\"\"\n",
    "        n = len(matrix)\n",
    "        ans = [[-1] * n for i in range(n)]\n",
    "        \n",
    "        for i in range(n):\n",
    "            for j in range(i+1,n):\n",
    "               matrix[i][j], matrix[j][i] = matrix[j][i], matrix[i][j]\n",
    "\n",
    "        for i in range(n):\n",
    "            matrix[i].reverse()\n",
    "        return matrix\n",
    "\n",
    "if __name__ == \"__main__\":\n",
    "    arr = [[1, 2, 3], [4, 5, 6], [7, 8, 9]]\n",
    "    rotated = Solution.rotate(arr)\n",
    "    print(\"Rotated Image\")\n",
    "    for i in range(len(rotated)):\n",
    "        for j in range(len(rotated[0])):\n",
    "            print(rotated[i][j], end=\" \")\n",
    "        print()\n"
   ]
  },
  {
   "cell_type": "code",
   "execution_count": null,
   "id": "37d3fc7d-5172-4635-9085-7f9006f46c73",
   "metadata": {},
   "outputs": [],
   "source": []
  }
 ],
 "metadata": {
  "kernelspec": {
   "display_name": "Python 3 (ipykernel)",
   "language": "python",
   "name": "python3"
  },
  "language_info": {
   "codemirror_mode": {
    "name": "ipython",
    "version": 3
   },
   "file_extension": ".py",
   "mimetype": "text/x-python",
   "name": "python",
   "nbconvert_exporter": "python",
   "pygments_lexer": "ipython3",
   "version": "3.11.5"
  }
 },
 "nbformat": 4,
 "nbformat_minor": 5
}
