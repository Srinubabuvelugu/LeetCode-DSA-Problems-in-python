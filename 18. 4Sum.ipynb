{
 "cells": [
  {
   "cell_type": "markdown",
   "id": "2e40dcab-fdc2-4430-abb7-23ed1d127f0f",
   "metadata": {},
   "source": [
    "# 4Sum Problem\n"
   ]
  },
  {
   "cell_type": "markdown",
   "id": "b21e32dc-76f1-4e1b-91b8-79d027c17746",
   "metadata": {},
   "source": [
    "## Optimal Approach\n",
    "**Time Complexity**: O(N3), where N = size of the array.\n",
    "Reason: Each of the pointers i and j, is running for approximately N times. And both the pointers k and l combined can run for approximately N times including the operation of skipping duplicates. So the total time complexity will be O(N3). \n",
    "\n",
    "**Space Complexity**: O(no. of quadruplets), This space is only used to store the answer. We are not using any extra space to solve this problem. So, from that perspective, space complexity can be written as O(1)."
   ]
  },
  {
   "cell_type": "code",
   "execution_count": 2,
   "id": "403f4c60-af9f-40a4-a226-909401c091a4",
   "metadata": {},
   "outputs": [
    {
     "name": "stdout",
     "output_type": "stream",
     "text": [
      "[[1, 1, 3, 4], [1, 2, 2, 4], [1, 2, 3, 3]]\n"
     ]
    }
   ],
   "source": [
    "class Solution:\n",
    "    def fourSum(nums, target):\n",
    "        ans = list()\n",
    "        n = len(nums)\n",
    "        nums.sort()\n",
    "        for i in range(n):\n",
    "            if i>0 and nums[i] == nums[i-1]: continue\n",
    "            for j in range(i+1, n):\n",
    "                if j>i+1 and nums[j] == nums[j-1]: continue\n",
    "                k = j+1\n",
    "                l = n-1\n",
    "                while k < l:\n",
    "                    sum = nums[i] + nums[j] + nums[k] + nums[l]\n",
    "                    if target < sum:\n",
    "                        l -= 1\n",
    "                    elif target > sum:\n",
    "                        k += 1\n",
    "                    else:\n",
    "                        ans.append([nums[i], nums[j], nums[k], nums[l]])\n",
    "                        k += 1\n",
    "                        l -= 1\n",
    "                        while k<l and nums[k] == nums[k-1]: k += 1\n",
    "                        while k<l and nums[l] == nums[l+1]: l -= 1\n",
    "\n",
    "        return ans\n",
    "\n",
    "if __name__ == '__main__':\n",
    "    nums = [4, 3, 3, 4, 4, 2, 1, 2, 1, 1]\n",
    "    target = 9\n",
    "    ans = Solution.fourSum(nums, target)\n",
    "    print(ans)"
   ]
  },
  {
   "cell_type": "code",
   "execution_count": null,
   "id": "3ad55396-0dfd-4474-a342-e4ce45cd2b1f",
   "metadata": {},
   "outputs": [],
   "source": []
  }
 ],
 "metadata": {
  "kernelspec": {
   "display_name": "Python 3 (ipykernel)",
   "language": "python",
   "name": "python3"
  },
  "language_info": {
   "codemirror_mode": {
    "name": "ipython",
    "version": 3
   },
   "file_extension": ".py",
   "mimetype": "text/x-python",
   "name": "python",
   "nbconvert_exporter": "python",
   "pygments_lexer": "ipython3",
   "version": "3.11.5"
  }
 },
 "nbformat": 4,
 "nbformat_minor": 5
}
