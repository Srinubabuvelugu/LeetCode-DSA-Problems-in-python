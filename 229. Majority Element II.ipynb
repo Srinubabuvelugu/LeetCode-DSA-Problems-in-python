{
 "cells": [
  {
   "cell_type": "markdown",
   "id": "f94375ed-a1a3-4825-a95f-44d4fda331f6",
   "metadata": {},
   "source": [
    "## Brute Force Approach\n",
    "- TC: O(n*n)\n",
    "- SC: O(1)"
   ]
  },
  {
   "cell_type": "code",
   "execution_count": 19,
   "id": "5b12897c-c17f-4c20-835b-5da5d53ceef0",
   "metadata": {},
   "outputs": [
    {
     "name": "stdout",
     "output_type": "stream",
     "text": [
      "The majority element is: [2, 1]\n"
     ]
    }
   ],
   "source": [
    "class Solution:\n",
    "    def majorityElement(nums):\n",
    "        n = len(nums)\n",
    "        limit = n // 3 + 1\n",
    "        ans = list()\n",
    "        for i in range(n):\n",
    "            if len(ans) == 0 or ans[0] != nums[i]:\n",
    "                count = 0 \n",
    "                for j in range(n):\n",
    "                    if nums[i] == nums[j]:\n",
    "                        count += 1\n",
    "                if count >= limit:\n",
    "                    ans.append(nums[i])\n",
    "            if len(ans) == 2:\n",
    "                break\n",
    "        return ans\n",
    "\n",
    "arr = [2, 2, 1, 1, 1, 2, 2]\n",
    "ans = Solution.majorityElement(arr)\n",
    "print(\"The majority element is:\", ans)\n"
   ]
  },
  {
   "cell_type": "markdown",
   "id": "0856f1d4-e4f1-453a-bc1e-444949b14e88",
   "metadata": {},
   "source": [
    "## Better Approach\n",
    "- TC: O(n)\n",
    "- SC: O(n)"
   ]
  },
  {
   "cell_type": "code",
   "execution_count": 20,
   "id": "9572a678-e8aa-4af0-ad86-ea77e1d4a81c",
   "metadata": {},
   "outputs": [
    {
     "name": "stdout",
     "output_type": "stream",
     "text": [
      "The majority element is: [1, 2]\n"
     ]
    }
   ],
   "source": [
    "class Solution:\n",
    "    def majorityElement(nums):\n",
    "        map = dict()\n",
    "        ans = list()\n",
    "        limit = len(nums)//3 + 1\n",
    "        for num in nums:\n",
    "            if num not in map:\n",
    "                map[num] = 1\n",
    "            else:\n",
    "                map[num] += 1\n",
    "            if map[num] == limit:\n",
    "                ans.append(num)\n",
    "        return ans\n",
    "\n",
    "arr = [2, 2, 1, 1, 1, 2, 2]\n",
    "ans = Solution.majorityElement(arr)\n",
    "print(\"The majority element is:\", ans)\n"
   ]
  },
  {
   "cell_type": "markdown",
   "id": "03900d81-ae05-464a-8ae0-e9b899e55e22",
   "metadata": {},
   "source": [
    "## Optimal Approach\n",
    "- TC: O(n)\n",
    "- SC: O(1)"
   ]
  },
  {
   "cell_type": "code",
   "execution_count": 21,
   "id": "4cf67cdb-5001-47b1-aa18-9014d083b9e8",
   "metadata": {},
   "outputs": [
    {
     "name": "stdout",
     "output_type": "stream",
     "text": [
      "The majority element is: [2, 1]\n"
     ]
    }
   ],
   "source": [
    "class Solution:\n",
    "    def majorityElement(nums):\n",
    "        \n",
    "        ele1, ele2 = None, None\n",
    "        count1, count2 = 0,0\n",
    "        n = len(nums)\n",
    "        for i in range(n):\n",
    "            if count1 == 0 and nums[i] != ele2:\n",
    "                ele1 = nums[i]\n",
    "                count1 = 1\n",
    "            elif count2 == 0 and nums[i] != ele1:\n",
    "                ele2 = nums[i]\n",
    "                count2 = 1\n",
    "            elif ele1 == nums[i]:\n",
    "                count1 += 1\n",
    "            elif ele2 == nums[i]:\n",
    "                count2 += 1\n",
    "            else:\n",
    "                count1 -= 1\n",
    "                count2 -= 1\n",
    "            \n",
    "        # check manually whether the element is mejority or not\n",
    "        cnt1, cnt2 =0, 0 \n",
    "        for num in nums:\n",
    "            if ele1 == num:\n",
    "                cnt1 += 1\n",
    "            elif ele2 == num:\n",
    "                cnt2 += 1\n",
    "        ans = list()\n",
    "        limit = n//3 + 1\n",
    "        if cnt1 >= limit:\n",
    "            ans.append(ele1)\n",
    "        if cnt2 >= limit:\n",
    "            ans.append(ele2)\n",
    "        return ans\n",
    "                \n",
    "\n",
    "arr = [2, 2, 1, 1, 1, 2, 2]\n",
    "ans = Solution.majorityElement(arr)\n",
    "print(\"The majority element is:\", ans)\n"
   ]
  },
  {
   "cell_type": "code",
   "execution_count": null,
   "id": "fb4ce11f-ce32-47b2-b8fc-0ba0ad3e53cb",
   "metadata": {},
   "outputs": [],
   "source": []
  }
 ],
 "metadata": {
  "kernelspec": {
   "display_name": "Python 3 (ipykernel)",
   "language": "python",
   "name": "python3"
  },
  "language_info": {
   "codemirror_mode": {
    "name": "ipython",
    "version": 3
   },
   "file_extension": ".py",
   "mimetype": "text/x-python",
   "name": "python",
   "nbconvert_exporter": "python",
   "pygments_lexer": "ipython3",
   "version": "3.11.5"
  }
 },
 "nbformat": 4,
 "nbformat_minor": 5
}
